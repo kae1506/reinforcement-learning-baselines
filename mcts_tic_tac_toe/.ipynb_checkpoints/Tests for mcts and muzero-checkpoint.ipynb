{
 "cells": [
  {
   "cell_type": "code",
   "execution_count": 1,
   "metadata": {},
   "outputs": [],
   "source": [
    "from mcts import *"
   ]
  },
  {
   "cell_type": "code",
   "execution_count": 2,
   "metadata": {
    "scrolled": true
   },
   "outputs": [
    {
     "name": "stdout",
     "output_type": "stream",
     "text": [
      "['#', '#', '#', '#', '#', '#', '#', '#', '#']\n",
      "2\n",
      "\n",
      "\n",
      "\n",
      "# # # \n",
      "\n",
      "# 1 # \n",
      "\n",
      "# # # \n",
      "\n",
      "1\n",
      "\n",
      "\n",
      "\n",
      "# # # \n",
      "\n",
      "# 1 # \n",
      "\n",
      "2 # # \n",
      "\n",
      "2\n",
      "\n",
      "\n",
      "\n",
      "# 1 # \n",
      "\n",
      "# 1 # \n",
      "\n",
      "2 # # \n",
      "\n",
      "1\n",
      "\n",
      "\n",
      "\n",
      "# 1 # \n",
      "\n",
      "# 1 # \n",
      "\n",
      "2 2 # \n",
      "\n",
      "2\n",
      "\n",
      "\n",
      "\n",
      "# 1 # \n",
      "\n",
      "# 1 # \n",
      "\n",
      "2 2 1 \n",
      "\n",
      "1\n",
      "\n",
      "\n",
      "\n",
      "2 1 # \n",
      "\n",
      "# 1 # \n",
      "\n",
      "2 2 1 \n",
      "\n",
      "2\n",
      "\n",
      "\n",
      "\n",
      "2 1 # \n",
      "\n",
      "1 1 # \n",
      "\n",
      "2 2 1 \n",
      "\n",
      "1\n",
      "\n",
      "\n",
      "\n",
      "2 1 # \n",
      "\n",
      "1 1 2 \n",
      "\n",
      "2 2 1 \n",
      "\n",
      "2\n",
      "\n",
      "\n",
      "\n",
      "2 1 1 \n",
      "\n",
      "1 1 2 \n",
      "\n",
      "2 2 1 \n",
      "\n"
     ]
    }
   ],
   "source": [
    "mcts = MCTS()\n",
    "b = Board()\n",
    "\n",
    "print(b.state)\n",
    "b.p1 = 2\n",
    "p = 1\n",
    "wnn = None\n",
    "while not b.is_terminal():\n",
    "    print(b.p1)\n",
    "    b, wnn = mcts.search(b, p)\n",
    "    \n",
    "    print ('\\n\\n')\n",
    "    for i in range(3):\n",
    "        for j in range(3):\n",
    "            print(b.state[i*3+j], end=' ')\n",
    "        print('\\n')\n",
    "        \n",
    "    p = 3-p"
   ]
  },
  {
   "cell_type": "code",
   "execution_count": 13,
   "metadata": {},
   "outputs": [
    {
     "name": "stdout",
     "output_type": "stream",
     "text": [
      "None\n"
     ]
    },
    {
     "ename": "AttributeError",
     "evalue": "'NoneType' object has no attribute 'state'",
     "output_type": "error",
     "traceback": [
      "\u001b[0;31m---------------------------------------------------------------------------\u001b[0m",
      "\u001b[0;31mAttributeError\u001b[0m                            Traceback (most recent call last)",
      "\u001b[0;32m<ipython-input-13-3e15ed71f3ea>\u001b[0m in \u001b[0;36m<module>\u001b[0;34m\u001b[0m\n\u001b[1;32m      1\u001b[0m \u001b[0ma\u001b[0m \u001b[0;34m=\u001b[0m \u001b[0mmcts\u001b[0m\u001b[0;34m.\u001b[0m\u001b[0mtree\u001b[0m\u001b[0;34m\u001b[0m\u001b[0;34m\u001b[0m\u001b[0m\n\u001b[0;32m----> 2\u001b[0;31m \u001b[0;32mwhile\u001b[0m \u001b[0ma\u001b[0m\u001b[0;34m.\u001b[0m\u001b[0mstate\u001b[0m\u001b[0;34m.\u001b[0m\u001b[0mstate\u001b[0m \u001b[0;32mis\u001b[0m \u001b[0;32mnot\u001b[0m \u001b[0;34m[\u001b[0m\u001b[0;34m'#'\u001b[0m\u001b[0;34m,\u001b[0m \u001b[0;34m'#'\u001b[0m\u001b[0;34m,\u001b[0m \u001b[0;34m'#'\u001b[0m\u001b[0;34m,\u001b[0m \u001b[0;34m'#'\u001b[0m\u001b[0;34m,\u001b[0m \u001b[0;34m'#'\u001b[0m\u001b[0;34m,\u001b[0m \u001b[0;34m'#'\u001b[0m\u001b[0;34m,\u001b[0m \u001b[0;34m'#'\u001b[0m\u001b[0;34m,\u001b[0m \u001b[0;34m'#'\u001b[0m\u001b[0;34m,\u001b[0m \u001b[0;34m'#'\u001b[0m\u001b[0;34m]\u001b[0m \u001b[0;32mor\u001b[0m \u001b[0ma\u001b[0m\u001b[0;34m.\u001b[0m\u001b[0mstate\u001b[0m\u001b[0;34m.\u001b[0m\u001b[0mstate\u001b[0m\u001b[0;34m:\u001b[0m\u001b[0;34m\u001b[0m\u001b[0;34m\u001b[0m\u001b[0m\n\u001b[0m\u001b[1;32m      3\u001b[0m     \u001b[0mprint\u001b[0m\u001b[0;34m(\u001b[0m\u001b[0ma\u001b[0m\u001b[0;34m.\u001b[0m\u001b[0mparent\u001b[0m\u001b[0;34m)\u001b[0m\u001b[0;34m\u001b[0m\u001b[0;34m\u001b[0m\u001b[0m\n\u001b[1;32m      4\u001b[0m     \u001b[0ma\u001b[0m \u001b[0;34m=\u001b[0m \u001b[0ma\u001b[0m\u001b[0;34m.\u001b[0m\u001b[0mparent\u001b[0m\u001b[0;34m\u001b[0m\u001b[0;34m\u001b[0m\u001b[0m\n",
      "\u001b[0;31mAttributeError\u001b[0m: 'NoneType' object has no attribute 'state'"
     ]
    }
   ],
   "source": [
    "a = mcts.tree\n",
    "while a.state.state is not ['#', '#', '#', '#', '#', '#', '#', '#', '#'] or a.state.state:\n",
    "    print(a.parent)\n",
    "    a = a.parent"
   ]
  },
  {
   "cell_type": "code",
   "execution_count": 7,
   "metadata": {},
   "outputs": [
    {
     "data": {
      "text/plain": [
       "<mcts.Node at 0x7f6b8dae1490>"
      ]
     },
     "execution_count": 7,
     "metadata": {},
     "output_type": "execute_result"
    }
   ],
   "source": [
    "mcts.tree"
   ]
  },
  {
   "cell_type": "code",
   "execution_count": null,
   "metadata": {},
   "outputs": [],
   "source": []
  }
 ],
 "metadata": {
  "kernelspec": {
   "display_name": "Python 3",
   "language": "python",
   "name": "python3"
  },
  "language_info": {
   "codemirror_mode": {
    "name": "ipython",
    "version": 3
   },
   "file_extension": ".py",
   "mimetype": "text/x-python",
   "name": "python",
   "nbconvert_exporter": "python",
   "pygments_lexer": "ipython3",
   "version": "3.8.10"
  }
 },
 "nbformat": 4,
 "nbformat_minor": 4
}
