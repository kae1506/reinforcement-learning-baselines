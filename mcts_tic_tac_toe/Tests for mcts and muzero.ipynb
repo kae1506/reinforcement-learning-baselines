{
 "cells": [
  {
   "cell_type": "code",
   "execution_count": 1,
   "metadata": {},
   "outputs": [],
   "source": [
    "from mcts import *"
   ]
  },
  {
   "cell_type": "code",
   "execution_count": 2,
   "metadata": {
    "scrolled": true
   },
   "outputs": [
    {
     "name": "stdout",
     "output_type": "stream",
     "text": [
      "['#', '#', '#', '#', '#', '#', '#', '#', '#']\n",
      "2\n",
      "\n",
      "\n",
      "\n",
      "# # # \n",
      "\n",
      "# 1 # \n",
      "\n",
      "# # # \n",
      "\n",
      "1\n",
      "\n",
      "\n",
      "\n",
      "# # # \n",
      "\n",
      "# 1 # \n",
      "\n",
      "2 # # \n",
      "\n",
      "2\n",
      "\n",
      "\n",
      "\n",
      "1 # # \n",
      "\n",
      "# 1 # \n",
      "\n",
      "2 # # \n",
      "\n",
      "1\n",
      "\n",
      "\n",
      "\n",
      "1 # # \n",
      "\n",
      "# 1 # \n",
      "\n",
      "2 # 2 \n",
      "\n",
      "2\n",
      "\n",
      "\n",
      "\n",
      "1 # # \n",
      "\n",
      "# 1 # \n",
      "\n",
      "2 1 2 \n",
      "\n",
      "1\n",
      "\n",
      "\n",
      "\n",
      "1 2 # \n",
      "\n",
      "# 1 # \n",
      "\n",
      "2 1 2 \n",
      "\n",
      "2\n",
      "\n",
      "\n",
      "\n",
      "1 2 # \n",
      "\n",
      "1 1 # \n",
      "\n",
      "2 1 2 \n",
      "\n",
      "1\n",
      "\n",
      "\n",
      "\n",
      "1 2 # \n",
      "\n",
      "1 1 2 \n",
      "\n",
      "2 1 2 \n",
      "\n",
      "2\n",
      "\n",
      "\n",
      "\n",
      "1 2 1 \n",
      "\n",
      "1 1 2 \n",
      "\n",
      "2 1 2 \n",
      "\n"
     ]
    }
   ],
   "source": [
    "mcts = MCTS()\n",
    "b = Board()\n",
    "\n",
    "print(b.state)\n",
    "b.p1 = 2\n",
    "p = 1\n",
    "wnn = None\n",
    "while not b.is_terminal():\n",
    "    print(b.p1)\n",
    "    b = mcts.search(b, p)\n",
    "    \n",
    "    print ('\\n\\n')\n",
    "    for i in range(3):\n",
    "        for j in range(3):\n",
    "            print(b.state[i*3+j], end=' ')\n",
    "        print('\\n')\n",
    "        \n",
    "    p = 3-p"
   ]
  },
  {
   "cell_type": "code",
   "execution_count": null,
   "metadata": {},
   "outputs": [],
   "source": [
    "print(wnn)\n",
    "while wnn.state.state is not ['#', '#', '#', '#', '#', '#', '#', '#', '#']:\n",
    "    print(wnn.state.state)\n",
    "    wnn = wnn.parent\n",
    "\n"
   ]
  },
  {
   "cell_type": "code",
   "execution_count": null,
   "metadata": {},
   "outputs": [],
   "source": [
    "mcts.search_path[7].visits"
   ]
  },
  {
   "cell_type": "code",
   "execution_count": 15,
   "metadata": {},
   "outputs": [],
   "source": [
    "def get_stats(idx):\n",
    "    n = mcts.search_path[idx]\n",
    "    print(n.state.state)\n",
    "    print(n.visits)\n",
    "    print(n.value)\n",
    "    print(n.player)\n",
    "    \n",
    "    print(n.parent.state.state)"
   ]
  },
  {
   "cell_type": "code",
   "execution_count": 23,
   "metadata": {},
   "outputs": [
    {
     "name": "stdout",
     "output_type": "stream",
     "text": [
      "[2, '#', '#', '#', 1, '#', '#', '#', '#']\n",
      "102\n",
      "170\n",
      "2\n",
      "['#', '#', '#', '#', 1, '#', '#', '#', '#']\n"
     ]
    }
   ],
   "source": [
    "get_stats(34)"
   ]
  },
  {
   "cell_type": "code",
   "execution_count": null,
   "metadata": {},
   "outputs": [],
   "source": []
  }
 ],
 "metadata": {
  "kernelspec": {
   "display_name": "Python 3",
   "language": "python",
   "name": "python3"
  },
  "language_info": {
   "codemirror_mode": {
    "name": "ipython",
    "version": 3
   },
   "file_extension": ".py",
   "mimetype": "text/x-python",
   "name": "python",
   "nbconvert_exporter": "python",
   "pygments_lexer": "ipython3",
   "version": "3.8.10"
  }
 },
 "nbformat": 4,
 "nbformat_minor": 4
}
