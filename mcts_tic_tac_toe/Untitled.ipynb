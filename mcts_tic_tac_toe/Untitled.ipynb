{
 "cells": [
  {
   "cell_type": "code",
   "execution_count": 1,
   "metadata": {},
   "outputs": [],
   "source": [
    "from tic_tac_toe import TicTacToeEnv\n",
    "env = TicTacToeEnv()\n",
    "state = env.reset()"
   ]
  },
  {
   "cell_type": "code",
   "execution_count": 2,
   "metadata": {},
   "outputs": [
    {
     "name": "stdout",
     "output_type": "stream",
     "text": [
      "alo\n",
      "None\n",
      "alo\n",
      "None\n",
      "alo\n",
      "None\n",
      "alo\n",
      "None\n",
      "alo\n",
      "None\n",
      "alo\n",
      "0\n",
      "0 won!\n",
      " 0 1 1 \n",
      " 0 1 # \n",
      " 0 # # \n",
      "\n"
     ]
    }
   ],
   "source": [
    "_, _, done, _ = env.step(1)\n",
    "_, _, done, _ = env.step(0)\n",
    "_, _, done, _ = env.step(2)\n",
    "_, _, done, _ = env.step(3)\n",
    "_, _, done, _ = env.step(4)\n",
    "_, _, done, _ = env.step(6)\n",
    "env.print_board()"
   ]
  },
  {
   "cell_type": "code",
   "execution_count": 3,
   "metadata": {},
   "outputs": [
    {
     "data": {
      "text/plain": [
       "True"
      ]
     },
     "execution_count": 3,
     "metadata": {},
     "output_type": "execute_result"
    }
   ],
   "source": [
    "done"
   ]
  },
  {
   "cell_type": "code",
   "execution_count": null,
   "metadata": {},
   "outputs": [],
   "source": []
  }
 ],
 "metadata": {
  "kernelspec": {
   "display_name": "Python 3",
   "language": "python",
   "name": "python3"
  },
  "language_info": {
   "codemirror_mode": {
    "name": "ipython",
    "version": 3
   },
   "file_extension": ".py",
   "mimetype": "text/x-python",
   "name": "python",
   "nbconvert_exporter": "python",
   "pygments_lexer": "ipython3",
   "version": "3.8.5"
  }
 },
 "nbformat": 4,
 "nbformat_minor": 4
}
